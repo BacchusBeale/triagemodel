{
 "cells": [
  {
   "cell_type": "code",
   "execution_count": null,
   "metadata": {},
   "outputs": [],
   "source": [
    "# Code taken from https://www.analyticsvidhya.com/blog/2018/02/the-different-methods-deal-text-data-predictive-python/"
   ]
  },
  {
   "cell_type": "code",
   "execution_count": 1,
   "metadata": {},
   "outputs": [],
   "source": [
    "#Loading NLTK\n",
    "import nltk\n",
    "#nltk.download('punkt')\n",
    "#nltk.download('stopwords')\n",
    "#nltk.download('wordnet')\n",
    "\n",
    "import pandas as pd\n"
   ]
  },
  {
   "cell_type": "code",
   "execution_count": null,
   "metadata": {},
   "outputs": [],
   "source": [
    "#pip install -U textblob\n",
    "# Install a pip package in the current Jupyter kernel\n",
    "#import sys\n",
    "#!{sys.executable} -m pip install numpy"
   ]
  },
  {
   "cell_type": "code",
   "execution_count": 35,
   "metadata": {},
   "outputs": [
    {
     "data": {
      "text/html": [
       "<div>\n",
       "<style scoped>\n",
       "    .dataframe tbody tr th:only-of-type {\n",
       "        vertical-align: middle;\n",
       "    }\n",
       "\n",
       "    .dataframe tbody tr th {\n",
       "        vertical-align: top;\n",
       "    }\n",
       "\n",
       "    .dataframe thead th {\n",
       "        text-align: right;\n",
       "    }\n",
       "</style>\n",
       "<table border=\"1\" class=\"dataframe\">\n",
       "  <thead>\n",
       "    <tr style=\"text-align: right;\">\n",
       "      <th></th>\n",
       "      <th>Abbreviation</th>\n",
       "      <th>Meaning</th>\n",
       "    </tr>\n",
       "  </thead>\n",
       "  <tbody>\n",
       "    <tr>\n",
       "      <th>0</th>\n",
       "      <td>Ab</td>\n",
       "      <td>Antibody</td>\n",
       "    </tr>\n",
       "    <tr>\n",
       "      <th>1</th>\n",
       "      <td>AB</td>\n",
       "      <td>Antiobiotic</td>\n",
       "    </tr>\n",
       "    <tr>\n",
       "      <th>2</th>\n",
       "      <td>Abdo</td>\n",
       "      <td>Abdomen</td>\n",
       "    </tr>\n",
       "    <tr>\n",
       "      <th>3</th>\n",
       "      <td>abdo</td>\n",
       "      <td>abdomen</td>\n",
       "    </tr>\n",
       "    <tr>\n",
       "      <th>4</th>\n",
       "      <td>ABG</td>\n",
       "      <td>Arterial blood gases</td>\n",
       "    </tr>\n",
       "    <tr>\n",
       "      <th>5</th>\n",
       "      <td>mum</td>\n",
       "      <td>mother</td>\n",
       "    </tr>\n",
       "    <tr>\n",
       "      <th>6</th>\n",
       "      <td>wks</td>\n",
       "      <td>weeks</td>\n",
       "    </tr>\n",
       "    <tr>\n",
       "      <th>7</th>\n",
       "      <td>Wks</td>\n",
       "      <td>weeks</td>\n",
       "    </tr>\n",
       "    <tr>\n",
       "      <th>8</th>\n",
       "      <td>yo</td>\n",
       "      <td>years old</td>\n",
       "    </tr>\n",
       "    <tr>\n",
       "      <th>9</th>\n",
       "      <td>pt</td>\n",
       "      <td>patient</td>\n",
       "    </tr>\n",
       "  </tbody>\n",
       "</table>\n",
       "</div>"
      ],
      "text/plain": [
       "  Abbreviation               Meaning\n",
       "0           Ab              Antibody\n",
       "1           AB           Antiobiotic\n",
       "2         Abdo               Abdomen\n",
       "3         abdo               abdomen\n",
       "4          ABG  Arterial blood gases\n",
       "5          mum                mother\n",
       "6          wks                 weeks\n",
       "7          Wks                 weeks\n",
       "8           yo             years old\n",
       "9           pt               patient"
      ]
     },
     "execution_count": 35,
     "metadata": {},
     "output_type": "execute_result"
    }
   ],
   "source": [
    "#Read in dictionary file\n",
    "Dictpath = '~torisugden/Desktop/MA5854 - Project 2/ClinicalAbbrs.xlsx' \n",
    "Dictdata = pd.read_excel (Dictpath)\n",
    "dictdf = pd.DataFrame(Dictdata)\n",
    "dictdf.head(10)\n"
   ]
  },
  {
   "cell_type": "code",
   "execution_count": 36,
   "metadata": {},
   "outputs": [
    {
     "name": "stdout",
     "output_type": "stream",
     "text": [
      "{'\\\\bAb\\\\b': 'Antibody', '\\\\bAB\\\\b': 'Antiobiotic', '\\\\bAbdo\\\\b': 'Abdomen', '\\\\babdo\\\\b': 'abdomen', '\\\\bABG\\\\b': 'Arterial blood gases', '\\\\bmum\\\\b': 'mother', '\\\\bwks\\\\b': 'weeks', '\\\\bWks\\\\b': 'weeks', '\\\\byo\\\\b': 'years old', '\\\\bpt\\\\b': 'patient'}\n"
     ]
    }
   ],
   "source": [
    "#Set up dictionary\n",
    "my_dict = dict(zip(dictdf['Abbreviation'], dictdf['Meaning']))\n",
    "my_dict = {r\"\\b{}\\b\".format(k): v for k, v in my_dict.items()}\n",
    "firstnpairs = {k: my_dict[k] for k in list(my_dict)[:10]}\n",
    "print(firstnpairs)"
   ]
  },
  {
   "cell_type": "code",
   "execution_count": 37,
   "metadata": {},
   "outputs": [],
   "source": [
    "#Read in file\n",
    "\n",
    "#Filepath = 'https://jcudata.s3-ap-southeast-2.amazonaws.com/ED_Patients_Data.xlsx'\n",
    "Filepath = '~torisugden/Desktop/MA5854 - Project 2/ED_Patients_Data_small.xlsx' \n",
    "\n",
    "#LookAt = 'PRESENTING_PROBLEM'\n",
    "LookAt = 'TRIAGE_PRESENTING_INFORMATION'\n",
    "#LookAt = 'TRIAGE_PRESENTING_ADDITIONAL_INFORMATION'\n",
    "\n",
    "data = pd.read_excel (Filepath)\n",
    "df = pd.DataFrame(data, columns= ['PATIENT_ID','TRIAGE_DT_TM','PRESENTING_PROBLEM', 'TRIAGE_PRESENTING_INFORMATION', 'TRIAGE_PRESENTING_ADDITIONAL_INFORMATION'])\n",
    "#print (df)\n",
    "\n",
    "\n",
    "ShowNum = 5\n",
    "\n",
    "# Drop observations where LookAt is blank.\n",
    "df = df[df[LookAt].notnull()]"
   ]
  },
  {
   "cell_type": "code",
   "execution_count": 38,
   "metadata": {},
   "outputs": [
    {
     "data": {
      "text/html": [
       "<div>\n",
       "<style scoped>\n",
       "    .dataframe tbody tr th:only-of-type {\n",
       "        vertical-align: middle;\n",
       "    }\n",
       "\n",
       "    .dataframe tbody tr th {\n",
       "        vertical-align: top;\n",
       "    }\n",
       "\n",
       "    .dataframe thead th {\n",
       "        text-align: right;\n",
       "    }\n",
       "</style>\n",
       "<table border=\"1\" class=\"dataframe\">\n",
       "  <thead>\n",
       "    <tr style=\"text-align: right;\">\n",
       "      <th></th>\n",
       "      <th>PATIENT_ID</th>\n",
       "      <th>TRIAGE_DT_TM</th>\n",
       "      <th>PRESENTING_PROBLEM</th>\n",
       "      <th>TRIAGE_PRESENTING_INFORMATION</th>\n",
       "      <th>TRIAGE_PRESENTING_ADDITIONAL_INFORMATION</th>\n",
       "    </tr>\n",
       "  </thead>\n",
       "  <tbody>\n",
       "    <tr>\n",
       "      <th>0</th>\n",
       "      <td>1dee72182d87b34cb330bf12d065cd021573ef09</td>\n",
       "      <td>2016-12-31T13:12:00Z</td>\n",
       "      <td>Pregnancy related problem</td>\n",
       "      <td>5 wks pregnant G2P1 presented with lower abdo ...</td>\n",
       "      <td>pmx ; nil</td>\n",
       "    </tr>\n",
       "    <tr>\n",
       "      <th>1</th>\n",
       "      <td>1c3bbdcef1bd6ef3fdfd2aba0ab848d970cc22fa</td>\n",
       "      <td>2016-12-31T13:19:00Z</td>\n",
       "      <td>Pain, abdominal</td>\n",
       "      <td>Pt presented with sudden onset of generalised ...</td>\n",
       "      <td>pt alert, well perfused, looks anxious.  pmx ;...</td>\n",
       "    </tr>\n",
       "    <tr>\n",
       "      <th>2</th>\n",
       "      <td>081e68d70b005d89fbce3690f8a3de87e4c3755b</td>\n",
       "      <td>2016-12-31T13:52:00Z</td>\n",
       "      <td>Pain, limb lower / hip</td>\n",
       "      <td>pt presented with R ankle swelling since yeste...</td>\n",
       "      <td>pt alert, well perfused, nil analgesia taken. ...</td>\n",
       "    </tr>\n",
       "    <tr>\n",
       "      <th>3</th>\n",
       "      <td>46d73dbb85071edf3301cfb5fb0fe855592147eb</td>\n",
       "      <td>2016-12-31T14:08:00Z</td>\n",
       "      <td>Unwell</td>\n",
       "      <td>pt BIBA from church with sudden onset of  dizz...</td>\n",
       "      <td>pmx ; nil</td>\n",
       "    </tr>\n",
       "    <tr>\n",
       "      <th>4</th>\n",
       "      <td>c8d82af5233c74cf91867f9ee9817dfa69304f79</td>\n",
       "      <td>2016-12-31T14:28:00Z</td>\n",
       "      <td>Pain, abdominal</td>\n",
       "      <td>BIB mum with  sudden onset of generalised abdo...</td>\n",
       "      <td>child alert,well perfused, afebrile. wa sgiven...</td>\n",
       "    </tr>\n",
       "  </tbody>\n",
       "</table>\n",
       "</div>"
      ],
      "text/plain": [
       "                                 PATIENT_ID          TRIAGE_DT_TM  \\\n",
       "0  1dee72182d87b34cb330bf12d065cd021573ef09  2016-12-31T13:12:00Z   \n",
       "1  1c3bbdcef1bd6ef3fdfd2aba0ab848d970cc22fa  2016-12-31T13:19:00Z   \n",
       "2  081e68d70b005d89fbce3690f8a3de87e4c3755b  2016-12-31T13:52:00Z   \n",
       "3  46d73dbb85071edf3301cfb5fb0fe855592147eb  2016-12-31T14:08:00Z   \n",
       "4  c8d82af5233c74cf91867f9ee9817dfa69304f79  2016-12-31T14:28:00Z   \n",
       "\n",
       "          PRESENTING_PROBLEM  \\\n",
       "0  Pregnancy related problem   \n",
       "1            Pain, abdominal   \n",
       "2     Pain, limb lower / hip   \n",
       "3                     Unwell   \n",
       "4            Pain, abdominal   \n",
       "\n",
       "                       TRIAGE_PRESENTING_INFORMATION  \\\n",
       "0  5 wks pregnant G2P1 presented with lower abdo ...   \n",
       "1  Pt presented with sudden onset of generalised ...   \n",
       "2  pt presented with R ankle swelling since yeste...   \n",
       "3  pt BIBA from church with sudden onset of  dizz...   \n",
       "4  BIB mum with  sudden onset of generalised abdo...   \n",
       "\n",
       "            TRIAGE_PRESENTING_ADDITIONAL_INFORMATION  \n",
       "0                                          pmx ; nil  \n",
       "1  pt alert, well perfused, looks anxious.  pmx ;...  \n",
       "2  pt alert, well perfused, nil analgesia taken. ...  \n",
       "3                                          pmx ; nil  \n",
       "4  child alert,well perfused, afebrile. wa sgiven...  "
      ]
     },
     "execution_count": 38,
     "metadata": {},
     "output_type": "execute_result"
    }
   ],
   "source": [
    "df.head(ShowNum)"
   ]
  },
  {
   "cell_type": "code",
   "execution_count": 39,
   "metadata": {},
   "outputs": [
    {
     "data": {
      "text/html": [
       "<div>\n",
       "<style scoped>\n",
       "    .dataframe tbody tr th:only-of-type {\n",
       "        vertical-align: middle;\n",
       "    }\n",
       "\n",
       "    .dataframe tbody tr th {\n",
       "        vertical-align: top;\n",
       "    }\n",
       "\n",
       "    .dataframe thead th {\n",
       "        text-align: right;\n",
       "    }\n",
       "</style>\n",
       "<table border=\"1\" class=\"dataframe\">\n",
       "  <thead>\n",
       "    <tr style=\"text-align: right;\">\n",
       "      <th></th>\n",
       "      <th>TRIAGE_PRESENTING_INFORMATION</th>\n",
       "      <th>word_count</th>\n",
       "    </tr>\n",
       "  </thead>\n",
       "  <tbody>\n",
       "    <tr>\n",
       "      <th>0</th>\n",
       "      <td>5 wks pregnant G2P1 presented with lower abdo ...</td>\n",
       "      <td>32</td>\n",
       "    </tr>\n",
       "    <tr>\n",
       "      <th>1</th>\n",
       "      <td>Pt presented with sudden onset of generalised ...</td>\n",
       "      <td>38</td>\n",
       "    </tr>\n",
       "    <tr>\n",
       "      <th>2</th>\n",
       "      <td>pt presented with R ankle swelling since yeste...</td>\n",
       "      <td>37</td>\n",
       "    </tr>\n",
       "    <tr>\n",
       "      <th>3</th>\n",
       "      <td>pt BIBA from church with sudden onset of  dizz...</td>\n",
       "      <td>43</td>\n",
       "    </tr>\n",
       "    <tr>\n",
       "      <th>4</th>\n",
       "      <td>BIB mum with  sudden onset of generalised abdo...</td>\n",
       "      <td>25</td>\n",
       "    </tr>\n",
       "  </tbody>\n",
       "</table>\n",
       "</div>"
      ],
      "text/plain": [
       "                       TRIAGE_PRESENTING_INFORMATION  word_count\n",
       "0  5 wks pregnant G2P1 presented with lower abdo ...          32\n",
       "1  Pt presented with sudden onset of generalised ...          38\n",
       "2  pt presented with R ankle swelling since yeste...          37\n",
       "3  pt BIBA from church with sudden onset of  dizz...          43\n",
       "4  BIB mum with  sudden onset of generalised abdo...          25"
      ]
     },
     "execution_count": 39,
     "metadata": {},
     "output_type": "execute_result"
    }
   ],
   "source": [
    "#Number of words in each text string\n",
    "df['word_count'] = df[LookAt].apply(lambda x: len(str(x).split(\" \")))\n",
    "df[[LookAt,'word_count']].head(ShowNum)"
   ]
  },
  {
   "cell_type": "code",
   "execution_count": 40,
   "metadata": {},
   "outputs": [
    {
     "data": {
      "text/html": [
       "<div>\n",
       "<style scoped>\n",
       "    .dataframe tbody tr th:only-of-type {\n",
       "        vertical-align: middle;\n",
       "    }\n",
       "\n",
       "    .dataframe tbody tr th {\n",
       "        vertical-align: top;\n",
       "    }\n",
       "\n",
       "    .dataframe thead th {\n",
       "        text-align: right;\n",
       "    }\n",
       "</style>\n",
       "<table border=\"1\" class=\"dataframe\">\n",
       "  <thead>\n",
       "    <tr style=\"text-align: right;\">\n",
       "      <th></th>\n",
       "      <th>TRIAGE_PRESENTING_INFORMATION</th>\n",
       "      <th>stopwords</th>\n",
       "    </tr>\n",
       "  </thead>\n",
       "  <tbody>\n",
       "    <tr>\n",
       "      <th>0</th>\n",
       "      <td>5 wks pregnant G2P1 presented with lower abdo ...</td>\n",
       "      <td>3</td>\n",
       "    </tr>\n",
       "    <tr>\n",
       "      <th>1</th>\n",
       "      <td>Pt presented with sudden onset of generalised ...</td>\n",
       "      <td>8</td>\n",
       "    </tr>\n",
       "    <tr>\n",
       "      <th>2</th>\n",
       "      <td>pt presented with R ankle swelling since yeste...</td>\n",
       "      <td>10</td>\n",
       "    </tr>\n",
       "    <tr>\n",
       "      <th>3</th>\n",
       "      <td>pt BIBA from church with sudden onset of  dizz...</td>\n",
       "      <td>10</td>\n",
       "    </tr>\n",
       "    <tr>\n",
       "      <th>4</th>\n",
       "      <td>BIB mum with  sudden onset of generalised abdo...</td>\n",
       "      <td>5</td>\n",
       "    </tr>\n",
       "  </tbody>\n",
       "</table>\n",
       "</div>"
      ],
      "text/plain": [
       "                       TRIAGE_PRESENTING_INFORMATION  stopwords\n",
       "0  5 wks pregnant G2P1 presented with lower abdo ...          3\n",
       "1  Pt presented with sudden onset of generalised ...          8\n",
       "2  pt presented with R ankle swelling since yeste...         10\n",
       "3  pt BIBA from church with sudden onset of  dizz...         10\n",
       "4  BIB mum with  sudden onset of generalised abdo...          5"
      ]
     },
     "execution_count": 40,
     "metadata": {},
     "output_type": "execute_result"
    }
   ],
   "source": [
    "#Number of stopwords in each text string\n",
    "from nltk.corpus import stopwords\n",
    "stop = stopwords.words('english')\n",
    "\n",
    "df['stopwords'] = df[LookAt].apply(lambda x: len([x for x in x.split() if x in stop]))\n",
    "df[[LookAt,'stopwords']].head(ShowNum)\n"
   ]
  },
  {
   "cell_type": "code",
   "execution_count": 41,
   "metadata": {},
   "outputs": [
    {
     "data": {
      "text/plain": [
       "0    5 weeks pregnant G2P1 presented with lower abd...\n",
       "1    patient presented with sudden onset of general...\n",
       "2    patient presented with right ankle swelling si...\n",
       "3    patient Brought in by Ambulance from church wi...\n",
       "4    Brought in by  mother with  sudden onset of ge...\n",
       "Name: TRIAGE_PRESENTING_INFORMATION, dtype: object"
      ]
     },
     "execution_count": 41,
     "metadata": {},
     "output_type": "execute_result"
    }
   ],
   "source": [
    "#Run words through dictionary to expand abbreviations\n",
    "\n",
    "df[LookAt] = df[LookAt].replace(my_dict, regex=True)\n",
    "df[LookAt].head(ShowNum)\n"
   ]
  },
  {
   "cell_type": "code",
   "execution_count": 42,
   "metadata": {},
   "outputs": [
    {
     "data": {
      "text/plain": [
       "0    5 weeks pregnant g2p1 presented with lower abd...\n",
       "1    patient presented with sudden onset of general...\n",
       "2    patient presented with right ankle swelling si...\n",
       "3    patient brought in by ambulance from church wi...\n",
       "4    brought in by mother with sudden onset of gene...\n",
       "Name: TRIAGE_PRESENTING_INFORMATION, dtype: object"
      ]
     },
     "execution_count": 42,
     "metadata": {},
     "output_type": "execute_result"
    }
   ],
   "source": [
    "#Lower Case\n",
    "df[LookAt] = df[LookAt].apply(lambda x: \" \".join(x.lower() for x in x.split()))\n",
    "df[LookAt].head(ShowNum)"
   ]
  },
  {
   "cell_type": "code",
   "execution_count": 43,
   "metadata": {},
   "outputs": [
    {
     "data": {
      "text/plain": [
       "0    5 weeks pregnant g2p1 presented with lower abd...\n",
       "1    patient presented with sudden onset of general...\n",
       "2    patient presented with right ankle swelling si...\n",
       "3    patient brought in by ambulance from church wi...\n",
       "4    brought in by mother with sudden onset of gene...\n",
       "Name: TRIAGE_PRESENTING_INFORMATION, dtype: object"
      ]
     },
     "execution_count": 43,
     "metadata": {},
     "output_type": "execute_result"
    }
   ],
   "source": [
    "#Remove punctuation\n",
    "df[LookAt] = df[LookAt].str.replace('[^\\w\\s]','')\n",
    "df[LookAt].head(ShowNum)\n"
   ]
  },
  {
   "cell_type": "code",
   "execution_count": 44,
   "metadata": {},
   "outputs": [
    {
     "data": {
      "text/plain": [
       "0    5 weeks pregnant g2p1 presented lower abdomen ...\n",
       "1    patient presented sudden onset generalised abd...\n",
       "2    patient presented right ankle swelling since y...\n",
       "3    patient brought ambulance church sudden onset ...\n",
       "4    brought mother sudden onset generalised abdome...\n",
       "Name: TRIAGE_PRESENTING_INFORMATION, dtype: object"
      ]
     },
     "execution_count": 44,
     "metadata": {},
     "output_type": "execute_result"
    }
   ],
   "source": [
    "#Remove Stopwords\n",
    "from nltk.corpus import stopwords\n",
    "stop = stopwords.words('english')\n",
    "df[LookAt] = df[LookAt].apply(lambda x: \" \".join(x for x in x.split() if x not in stop))\n",
    "df[LookAt].head(ShowNum)"
   ]
  },
  {
   "cell_type": "code",
   "execution_count": 55,
   "metadata": {},
   "outputs": [
    {
     "data": {
      "text/plain": [
       "0     5 weeks pregnant gap presented lower abdomen p...\n",
       "1     patient presented sudden onset generalised abd...\n",
       "2     patient presented right ankle swelling since y...\n",
       "3     patient brought ambulance church sudden onset ...\n",
       "4     brought mother sudden onset generalised abdome...\n",
       "                            ...                        \n",
       "95                                             cat bite\n",
       "96                                               unwell\n",
       "97                          fever decreased oral intake\n",
       "98                            abdomen pain quadriplegia\n",
       "99                             left upper quarante pain\n",
       "Name: TRIAGE_PRESENTING_INFORMATION, Length: 100, dtype: object"
      ]
     },
     "execution_count": 55,
     "metadata": {},
     "output_type": "execute_result"
    }
   ],
   "source": [
    "#Spellcheck   NOTE THIS IS SET TO ONLY DO THE FIRST 100 AT THE MOMENT!!!!!!!\n",
    "from textblob import TextBlob\n",
    "df[LookAt][:100].apply(lambda x: str(TextBlob(x).correct()))"
   ]
  },
  {
   "cell_type": "code",
   "execution_count": 56,
   "metadata": {},
   "outputs": [
    {
     "data": {
      "text/plain": [
       "patient     558\n",
       "pain        519\n",
       "nil         367\n",
       "presents    270\n",
       "since       246\n",
       "left        231\n",
       "brought     231\n",
       "right       204\n",
       "last        191\n",
       "co          150\n",
       "dtype: int64"
      ]
     },
     "execution_count": 56,
     "metadata": {},
     "output_type": "execute_result"
    }
   ],
   "source": [
    "#Word Frequency\n",
    "freq = pd.Series(' '.join(df[LookAt]).split()).value_counts()[:10]\n",
    "freq"
   ]
  },
  {
   "cell_type": "code",
   "execution_count": null,
   "metadata": {},
   "outputs": [],
   "source": []
  }
 ],
 "metadata": {
  "kernelspec": {
   "display_name": "Python 3",
   "language": "python",
   "name": "python3"
  },
  "language_info": {
   "codemirror_mode": {
    "name": "ipython",
    "version": 3
   },
   "file_extension": ".py",
   "mimetype": "text/x-python",
   "name": "python",
   "nbconvert_exporter": "python",
   "pygments_lexer": "ipython3",
   "version": "3.7.3"
  }
 },
 "nbformat": 4,
 "nbformat_minor": 2
}
